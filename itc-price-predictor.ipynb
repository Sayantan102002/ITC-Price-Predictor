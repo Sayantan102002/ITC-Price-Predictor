{
 "cells": [
  {
   "cell_type": "code",
   "execution_count": 1,
   "id": "074b36b4",
   "metadata": {
    "_cell_guid": "b1076dfc-b9ad-4769-8c92-a6c4dae69d19",
    "_uuid": "8f2839f25d086af736a60e9eeb907d3b93b6e0e5",
    "execution": {
     "iopub.execute_input": "2023-08-28T18:36:25.925061Z",
     "iopub.status.busy": "2023-08-28T18:36:25.924685Z",
     "iopub.status.idle": "2023-08-28T18:36:25.943205Z",
     "shell.execute_reply": "2023-08-28T18:36:25.942066Z"
    },
    "papermill": {
     "duration": 0.025655,
     "end_time": "2023-08-28T18:36:25.946054",
     "exception": false,
     "start_time": "2023-08-28T18:36:25.920399",
     "status": "completed"
    },
    "tags": []
   },
   "outputs": [
    {
     "name": "stdout",
     "output_type": "stream",
     "text": [
      "/kaggle/input/itc-stock-price-prediction/ITC.NS.csv\n"
     ]
    }
   ],
   "source": [
    "# This Python 3 environment comes with many helpful analytics libraries installed\n",
    "# It is defined by the kaggle/python Docker image: https://github.com/kaggle/docker-python\n",
    "# For example, here's several helpful packages to load\n",
    "\n",
    "import numpy as np # linear algebra\n",
    "import pandas as pd # data processing, CSV file I/O (e.g. pd.read_csv)\n",
    "\n",
    "# Input data files are available in the read-only \"../input/\" directory\n",
    "# For example, running this (by clicking run or pressing Shift+Enter) will list all files under the input directory\n",
    "\n",
    "import os\n",
    "for dirname, _, filenames in os.walk('/kaggle/input'):\n",
    "    for filename in filenames:\n",
    "        print(os.path.join(dirname, filename))\n",
    "\n",
    "# You can write up to 20GB to the current directory (/kaggle/working/) that gets preserved as output when you create a version using \"Save & Run All\" \n",
    "# You can also write temporary files to /kaggle/temp/, but they won't be saved outside of the current session"
   ]
  },
  {
   "cell_type": "code",
   "execution_count": 2,
   "id": "1d22c96e",
   "metadata": {
    "execution": {
     "iopub.execute_input": "2023-08-28T18:36:25.952124Z",
     "iopub.status.busy": "2023-08-28T18:36:25.951786Z",
     "iopub.status.idle": "2023-08-28T18:36:27.429012Z",
     "shell.execute_reply": "2023-08-28T18:36:27.427818Z"
    },
    "papermill": {
     "duration": 1.483234,
     "end_time": "2023-08-28T18:36:27.431735",
     "exception": false,
     "start_time": "2023-08-28T18:36:25.948501",
     "status": "completed"
    },
    "tags": []
   },
   "outputs": [
    {
     "name": "stderr",
     "output_type": "stream",
     "text": [
      "/opt/conda/lib/python3.10/site-packages/scipy/__init__.py:146: UserWarning: A NumPy version >=1.16.5 and <1.23.0 is required for this version of SciPy (detected version 1.23.5\n",
      "  warnings.warn(f\"A NumPy version >={np_minversion} and <{np_maxversion}\"\n"
     ]
    },
    {
     "name": "stdout",
     "output_type": "stream",
     "text": [
      "0.9995773422136488\n"
     ]
    },
    {
     "data": {
      "image/png": "[encoded data removed]",
      "text/plain": [
       "<Figure size 640x480 with 1 Axes>"
      ]
     },
     "metadata": {},
     "output_type": "display_data"
    }
   ],
   "source": [
    "import matplotlib.pyplot as plt\n",
    "from sklearn.model_selection import train_test_split\n",
    "from sklearn.linear_model import LinearRegression\n",
    "train=[]\n",
    "train_labels=[]\n",
    "test=[]\n",
    "test_labels=[]\n",
    "data=pd.read_csv(\"/kaggle/input/itc-stock-price-prediction/ITC.NS.csv\")\n",
    "# print(df)\n",
    "# data=data[data[\"Close\"]!=\"NaN\"]\n",
    "# df=pd.DataFrame([data[\"Close\"],data[\"Open\"]])\n",
    "# df=df[[data[\"Close\"]!=\"NaN\"]]\n",
    "train=np.array([data[\"Open\"],data[\"Close\"]])\n",
    "# train=train[data[\"Close\"]!=\"NaN\"]\n",
    "train=train.transpose()\n",
    "train,test=train_test_split(train,test_size=0.20,random_state=42)\n",
    "X=train[:,0]\n",
    "Y=train[:,1]\n",
    "x_test=test[:,0]\n",
    "y_test=test[:,1]\n",
    "X = X[~np.isnan(X)]\n",
    "Y = Y[~np.isnan(Y)]\n",
    "x_test = x_test[~np.isnan(x_test)]\n",
    "y_test = y_test[~np.isnan(y_test)]\n",
    "# X=X.transpose()\n",
    "# Y=Y.transpose()\n",
    "# x_test=x_test.transpose()\n",
    "# y_test=y_test.transpose()\n",
    "X=X.reshape(-1,1)\n",
    "Y=Y.reshape(-1,1)\n",
    "x_test=x_test.reshape(-1,1)\n",
    "y_test=y_test.reshape(-1,1)\n",
    "reg=LinearRegression().fit(X,Y)\n",
    "print(reg.score(x_test,y_test))\n",
    "plt.scatter(X,Y)\n",
    "plt.show()\n",
    "# print(reg.predict(x_test))\n"
   ]
  }
 ],
 "metadata": {
  "kernelspec": {
   "display_name": "Python 3",
   "language": "python",
   "name": "python3"
  },
  "language_info": {
   "codemirror_mode": {
    "name": "ipython",
    "version": 3
   },
   "file_extension": ".py",
   "mimetype": "text/x-python",
   "name": "python",
   "nbconvert_exporter": "python",
   "pygments_lexer": "ipython3",
   "version": "3.10.12"
  },
  "papermill": {
   "default_parameters": {},
   "duration": 12.526231,
   "end_time": "2023-08-28T18:36:28.356538",
   "environment_variables": {},
   "exception": null,
   "input_path": "__notebook__.ipynb",
   "output_path": "__notebook__.ipynb",
   "parameters": {},
   "start_time": "2023-08-28T18:36:15.830307",
   "version": "2.4.0"
  }
 },
 "nbformat": 4,
 "nbformat_minor": 5
}
